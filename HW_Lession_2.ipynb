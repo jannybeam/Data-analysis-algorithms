{
 "cells": [
  {
   "cell_type": "markdown",
   "id": "5f03ef5a",
   "metadata": {},
   "source": [
    "# Домашнее задание к уроку №2"
   ]
  },
  {
   "cell_type": "markdown",
   "id": "0811c460",
   "metadata": {},
   "source": [
    "1. Сгенерировать датасет при помощи sklearn.datasets.make_regression и обучить линейную модель при помощи градиентного и стохастического градиентного спуска. Нанести среднеквадратичную ошибку для обоих методов на один график, сделать выводы о разнице скорости сходимости каждого из методов."
   ]
  },
  {
   "cell_type": "code",
   "execution_count": 1,
   "id": "5dffc2a3",
   "metadata": {},
   "outputs": [],
   "source": [
    "import numpy as np\n",
    "import pandas as pd\n",
    "import matplotlib.pyplot as plt\n",
    "from sklearn.datasets import make_regression\n",
    "\n",
    "%matplotlib inline"
   ]
  },
  {
   "cell_type": "code",
   "execution_count": 2,
   "id": "d7dbcccc",
   "metadata": {},
   "outputs": [],
   "source": [
    "X, y, W_default = make_regression(\n",
    "    n_features=10,\n",
    "    bias=3.5,\n",
    "    noise=1.2,\n",
    "    coef=True,\n",
    "    random_state=42\n",
    ")"
   ]
  },
  {
   "cell_type": "code",
   "execution_count": 3,
   "id": "9e77314a",
   "metadata": {},
   "outputs": [
    {
     "data": {
      "text/plain": [
       "array([16.74825823, 54.12963353,  5.19712837, 63.64302495, 93.62122462,\n",
       "       70.64757265, 87.09691237, 10.45678403,  3.15861448, 70.90605195])"
      ]
     },
     "execution_count": 3,
     "metadata": {},
     "output_type": "execute_result"
    }
   ],
   "source": [
    "W_default"
   ]
  },
  {
   "cell_type": "markdown",
   "id": "58c8720b",
   "metadata": {},
   "source": [
    "Предсказания модели"
   ]
  },
  {
   "cell_type": "code",
   "execution_count": 4,
   "id": "5697b116",
   "metadata": {},
   "outputs": [],
   "source": [
    "y_pred_default = X @ W_default"
   ]
  },
  {
   "cell_type": "code",
   "execution_count": 5,
   "id": "88780214",
   "metadata": {},
   "outputs": [],
   "source": [
    "def calc_mse(y, y_pred):\n",
    "    err = np.mean((y - y_pred) ** 2)\n",
    "    return err"
   ]
  },
  {
   "cell_type": "markdown",
   "id": "3445519c",
   "metadata": {},
   "source": [
    "MSE"
   ]
  },
  {
   "cell_type": "code",
   "execution_count": 6,
   "id": "c616a569",
   "metadata": {},
   "outputs": [
    {
     "data": {
      "text/plain": [
       "14.867688515340424"
      ]
     },
     "execution_count": 6,
     "metadata": {},
     "output_type": "execute_result"
    }
   ],
   "source": [
    "mse_default = calc_mse(y, y_pred_default)\n",
    "mse_default"
   ]
  },
  {
   "cell_type": "markdown",
   "id": "a6f63afc",
   "metadata": {},
   "source": [
    "Градиентный спуск (оптимизация модели)"
   ]
  },
  {
   "cell_type": "code",
   "execution_count": 7,
   "id": "55fdccd5",
   "metadata": {},
   "outputs": [],
   "source": [
    "def my_grad_desc(X, y, alpha=1e-04, verbose=False, tol=0.0):\n",
    "  \n",
    "    n = X.shape[0]\n",
    "    W = np.random.randn(X.shape[1], )  # начальное значение весов\n",
    "    min_err = float('inf')  # начальное значение ошибки модели\n",
    "    n_iter = 0  # количество итераций\n",
    "    stop_chek = True  # снижение ошибки\n",
    "    errors = []  # визуализаця кривой обучения\n",
    "    while stop_chek:\n",
    "        n_iter += 1\n",
    "        y_pred = W @ X.T\n",
    "        err = calc_mse(y, y_pred)\n",
    "        errors.append(err)\n",
    "        if min_err - err > tol:  # текущее значение ошибки\n",
    "            min_err = err\n",
    "        else: \n",
    "            print(\n",
    "                f'Stop descent! iteration: {n_iter}, weights: {W}, mse: {min_err}')\n",
    "            stop_chek = False\n",
    "        W -= alpha * (1 / n * 2 * np.sum(X.T * (y_pred - y), axis=1))\n",
    "        if verbose:\n",
    "            if n_iter % 100 == 0:\n",
    "                print(n_iter, W, err)\n",
    "    return W, min_err, errors"
   ]
  },
  {
   "cell_type": "code",
   "execution_count": 8,
   "id": "8ef10fb5",
   "metadata": {},
   "outputs": [
    {
     "name": "stdout",
     "output_type": "stream",
     "text": [
      "Stop descent! iteration: 6787, weights: [17.01875467 54.47008695  4.75430151 63.30969306 93.39788652 71.0415159\n",
      " 86.98587565 10.23653772  3.51117264 70.8122147 ], mse: 14.301232649300378\n"
     ]
    }
   ],
   "source": [
    "W_1, mse_1, score_1 = my_grad_desc(X, y, alpha=0.001, tol=0.00001)"
   ]
  },
  {
   "cell_type": "markdown",
   "id": "21766c35",
   "metadata": {},
   "source": [
    "SGD"
   ]
  },
  {
   "cell_type": "code",
   "execution_count": 10,
   "id": "a53df81a",
   "metadata": {},
   "outputs": [],
   "source": [
    "def my_sgd(X, y, alpha=1e-04, batch_size=1, n_epoch=1e+06, verbose=False, tol=0.0):\n",
    "    \n",
    "    n = X.shape[0]\n",
    "    W = np.random.randn(X.shape[1], )  # начальное значение весов\n",
    "    n_batch = n // batch_size  # количество батчей\n",
    "    if n % batch_size != 0:\n",
    "        n_batch += 1\n",
    "    min_err = float('inf')  # начальное значение ошибки модели\n",
    "    n_iter = 0  # количество итераций\n",
    "    stop_chek = True  # снижение ошибки\n",
    "    errors = []  # визуализация кривой обучения\n",
    "    while stop_chek:\n",
    "        n_iter += 1\n",
    "        for b in range(n_batch):\n",
    "            start_ = batch_size * b\n",
    "            end_ = batch_size * (b + 1)\n",
    "            X_tmp = X.T[:, start_: end_]\n",
    "            y_tmp = y[start_: end_]\n",
    "            y_pred = W @ X_tmp\n",
    "            err = calc_mse(y_tmp, y_pred)\n",
    "            W -= alpha * (1 / n * 2 * (y_pred - y_tmp) @ X_tmp.T)\n",
    "        errors.append(err)\n",
    "        if verbose:\n",
    "            if n_iter % 1000 == 0:\n",
    "                print(n_iter, W, err)\n",
    "        if n_iter==n_epoch:                      # достижение n_epoch\n",
    "            print(\n",
    "                f'Stop descent! n_epoch: {n_iter}, weights: {W}, mse: {min_err}')\n",
    "            stop_chek = False\n",
    "        if np.abs(min_err - err) > tol:          # текущее значение ошибки\n",
    "            min_err = err if err<=min_err else min_err\n",
    "        else:                                    # достижение tol\n",
    "            print(\n",
    "                f'Stop descent! n_epoch: {n_iter}, weights: {W}, mse: {min_err}')\n",
    "            stop_chek = False\n",
    "        \n",
    "    return W, min_err, errors"
   ]
  },
  {
   "cell_type": "code",
   "execution_count": 11,
   "id": "55516124",
   "metadata": {},
   "outputs": [
    {
     "name": "stdout",
     "output_type": "stream",
     "text": [
      "Stop descent! n_epoch: 5470, weights: [17.03818059 54.52600376  4.6778117  63.30931397 93.3230552  71.13662682\n",
      " 86.88308592 10.12245206  3.54214777 70.68269716], mse: 10.991934042644123\n"
     ]
    }
   ],
   "source": [
    "W_2, mse_2, score_2 = my_sgd(X, y, alpha=0.001, batch_size=1, n_epoch=8000, tol=0.00001)"
   ]
  },
  {
   "cell_type": "code",
   "execution_count": 12,
   "id": "4559420f",
   "metadata": {},
   "outputs": [
    {
     "data": {
      "image/png": "[encoded data removed]",
      "text/plain": [
       "<Figure size 1152x720 with 1 Axes>"
      ]
     },
     "metadata": {
      "needs_background": "light"
     },
     "output_type": "display_data"
    }
   ],
   "source": [
    "plt.figure(figsize=(16, 10))\n",
    "plt.ylim((0,2000))\n",
    "plt.xlim((0,len(score_1)-1000))\n",
    "plt.plot([x for x in range(len(score_1))], score_1, label='GD-method')\n",
    "plt.plot([x for x in range(len(score_2))], score_2, c='r', label='SGD-method')\n",
    "plt.axhline(mse_default, c='gray', ls='--', label=r'calculated indicator $MSE$', mew=0.9)\n",
    "plt.xlabel('iteratoin number')\n",
    "plt.xticks(list(plt.xticks()[0])+[len(score_1), len(score_2)])\n",
    "plt.ylabel(r'$MSE$')\n",
    "plt.legend()\n",
    "plt.show()"
   ]
  },
  {
   "cell_type": "code",
   "execution_count": 13,
   "id": "e27c52ac",
   "metadata": {},
   "outputs": [
    {
     "data": {
      "text/plain": [
       "6787"
      ]
     },
     "execution_count": 13,
     "metadata": {},
     "output_type": "execute_result"
    }
   ],
   "source": [
    "len(score_1)"
   ]
  },
  {
   "cell_type": "markdown",
   "id": "da50a4ef",
   "metadata": {},
   "source": [
    "Вывод: примерно до 800-й итерации значение SGD 'расходится', а значение MSE растет, затем, до уроня 2300-2400 итераций \n",
    "оба алгоритма сходились, при этом скорость схождения GD была выше, чем у SGD. \n",
    "Однако затем скорости уравнялись, и SGD сошелся раньше чем GD (5538 итераций против 6746)."
   ]
  },
  {
   "cell_type": "markdown",
   "id": "4fa966bf",
   "metadata": {},
   "source": [
    "2. Модифицировать решение первого задания путем добавления  𝐿2 -регуляризации (в функцию, считающую MSE, нужно добавить норму вектора весов) и сравнить результаты."
   ]
  },
  {
   "cell_type": "code",
   "execution_count": 15,
   "id": "6aabafb6",
   "metadata": {},
   "outputs": [],
   "source": [
    "def euclid(vec):\n",
    "    norm=0\n",
    "    for i in vec:\n",
    "        norm+=i**2\n",
    "    return norm**0.5"
   ]
  },
  {
   "cell_type": "markdown",
   "id": "1df9892c",
   "metadata": {},
   "source": [
    "Коррекция функции GD и SGD"
   ]
  },
  {
   "cell_type": "code",
   "execution_count": 16,
   "id": "dd08a4ba",
   "metadata": {},
   "outputs": [],
   "source": [
    "def my_grad_desc_reg(X, y, alpha=1e-04, verbose=False, tol=0.0, lambda_=0.0):\n",
    "    \n",
    "    n = X.shape[0]\n",
    "    W = np.random.randn(X.shape[1], )  # начальное значение весов\n",
    "    min_err = float('inf')  # начальное значение ошибки модели\n",
    "    n_iter = 0  # количество итераций\n",
    "    stop_chek = True  # снижение ошибки\n",
    "    errors = []  # визуализация кривой обучения\n",
    "    while stop_chek:\n",
    "        n_iter += 1\n",
    "        y_pred = W @ X.T\n",
    "        err = calc_mse(y, y_pred)+lambda_*euclid(W) # фактор L2 регуляризации\n",
    "        errors.append(err)\n",
    "        if min_err - err > tol:  # текущее значение ошибки\n",
    "            min_err = err\n",
    "        else: \n",
    "            print(\n",
    "                f'Stop descent! iteration: {n_iter}, weights: {W}, mse: {min_err}')\n",
    "            stop_chek = False\n",
    "        W -= alpha * (1 / n * 2 * np.sum(X.T * (y_pred - y), axis=1))+lambda_*W # добавим коэфф. лямбда для расчёта весов\n",
    "        if verbose:\n",
    "            if n_iter % 1000 == 0:\n",
    "                print(n_iter, W, err)\n",
    "    return W, min_err, errors"
   ]
  },
  {
   "cell_type": "code",
   "execution_count": 17,
   "id": "091d4495",
   "metadata": {},
   "outputs": [
    {
     "name": "stdout",
     "output_type": "stream",
     "text": [
      "Stop descent! iteration: 6796, weights: [17.01863651 54.46682393  4.75449511 63.30669328 93.39285248 71.0386195\n",
      " 86.98267792 10.23480248  3.51157554 70.80888315], mse: 14.301654140681245\n"
     ]
    }
   ],
   "source": [
    "W_3, mse_3, score_3 = my_grad_desc_reg(X, y, alpha=0.001, tol=0.00001, lambda_=0.0000001)"
   ]
  },
  {
   "cell_type": "code",
   "execution_count": 18,
   "id": "dedf08a3",
   "metadata": {},
   "outputs": [],
   "source": [
    "def my_sgd_reg(X, y, alpha=1e-04, batch_size=1, n_epoch=1e+06, verbose=False, tol=0.0, lambda_=0.0):\n",
    "    \n",
    "    n = X.shape[0]\n",
    "    W = np.random.randn(X.shape[1], )  # начальное значение весов\n",
    "    n_batch = n // batch_size  # количество батчей\n",
    "    if n % batch_size != 0:\n",
    "        n_batch += 1\n",
    "    min_err = float('inf')  # начальное значение ошибки модели\n",
    "    n_iter = 0  # количество итераций\n",
    "    stop_chek = True  # снижение ошибки\n",
    "    errors = []  # визуализация кривой обучения\n",
    "    while stop_chek:\n",
    "        n_iter += 1\n",
    "        for b in range(n_batch):\n",
    "            start_ = batch_size * b\n",
    "            end_ = batch_size * (b + 1)\n",
    "            X_tmp = X.T[:, start_: end_]\n",
    "            y_tmp = y[start_: end_]\n",
    "            y_pred = W @ X_tmp\n",
    "            err = calc_mse(y_tmp, y_pred)+lambda_*euclid(W) # добавляем в расчет ошибки фактор L2 регуляризации\n",
    "            W -= alpha * (1 / n * 2 * (y_pred - y_tmp) @ X_tmp.T)+lambda_*W\n",
    "        errors.append(err)\n",
    "        if verbose:\n",
    "            if n_iter % 1000 == 0:\n",
    "                print(n_iter, W, err)\n",
    "        if n_iter==n_epoch:                      # достижение n_epoch\n",
    "            print(\n",
    "                f'Stop descent! n_epoch: {n_iter}, weights: {W}, mse: {min_err}')\n",
    "            stop_chek = False\n",
    "        if np.abs(min_err - err) > tol:          # текущее значение ошибки\n",
    "            min_err = err if err<=min_err else min_err\n",
    "        else:                                    # достижение tol\n",
    "            print(\n",
    "                f'Stop descent! n_epoch: {n_iter}, weights: {W}, mse: {min_err}')\n",
    "            stop_chek = False\n",
    "        \n",
    "    return W, min_err, errors"
   ]
  },
  {
   "cell_type": "code",
   "execution_count": 19,
   "id": "b69d4e40",
   "metadata": {},
   "outputs": [
    {
     "name": "stdout",
     "output_type": "stream",
     "text": [
      "Stop descent! n_epoch: 5541, weights: [17.03465517 54.26930011  4.61433888 63.01559965 92.75037629 70.94952767\n",
      " 86.45243946  9.83093592  3.61220325 70.21932101], mse: 14.569453678040682\n"
     ]
    }
   ],
   "source": [
    "W_4, mse_4, score_4 = my_sgd_reg(X, y, alpha=0.001, batch_size=1, n_epoch=8000, tol=0.00001, lambda_=0.0000001)"
   ]
  },
  {
   "cell_type": "markdown",
   "id": "fd9c0ad3",
   "metadata": {},
   "source": [
    "Сравнение результатов"
   ]
  },
  {
   "cell_type": "code",
   "execution_count": 20,
   "id": "7980c492",
   "metadata": {},
   "outputs": [
    {
     "data": {
      "text/html": [
       "<div>\n",
       "<style scoped>\n",
       "    .dataframe tbody tr th:only-of-type {\n",
       "        vertical-align: middle;\n",
       "    }\n",
       "\n",
       "    .dataframe tbody tr th {\n",
       "        vertical-align: top;\n",
       "    }\n",
       "\n",
       "    .dataframe thead th {\n",
       "        text-align: right;\n",
       "    }\n",
       "</style>\n",
       "<table border=\"1\" class=\"dataframe\">\n",
       "  <thead>\n",
       "    <tr style=\"text-align: right;\">\n",
       "      <th></th>\n",
       "      <th>methods</th>\n",
       "      <th>$\\lambda$-coeff</th>\n",
       "      <th>tol-value</th>\n",
       "      <th>iterations</th>\n",
       "      <th>err-value</th>\n",
       "    </tr>\n",
       "  </thead>\n",
       "  <tbody>\n",
       "    <tr>\n",
       "      <th>0</th>\n",
       "      <td>GD</td>\n",
       "      <td>NaN</td>\n",
       "      <td>0.00001</td>\n",
       "      <td>6787</td>\n",
       "      <td>14.301223</td>\n",
       "    </tr>\n",
       "    <tr>\n",
       "      <th>1</th>\n",
       "      <td>SGD</td>\n",
       "      <td>NaN</td>\n",
       "      <td>0.00001</td>\n",
       "      <td>5470</td>\n",
       "      <td>10.991924</td>\n",
       "    </tr>\n",
       "    <tr>\n",
       "      <th>2</th>\n",
       "      <td>GD + L2</td>\n",
       "      <td>0.001</td>\n",
       "      <td>0.00001</td>\n",
       "      <td>6796</td>\n",
       "      <td>14.301644</td>\n",
       "    </tr>\n",
       "    <tr>\n",
       "      <th>3</th>\n",
       "      <td>SGD + L2</td>\n",
       "      <td>0.001</td>\n",
       "      <td>0.00001</td>\n",
       "      <td>5541</td>\n",
       "      <td>14.569444</td>\n",
       "    </tr>\n",
       "  </tbody>\n",
       "</table>\n",
       "</div>"
      ],
      "text/plain": [
       "    methods  $\\lambda$-coeff  tol-value  iterations  err-value\n",
       "0        GD              NaN    0.00001        6787  14.301223\n",
       "1       SGD              NaN    0.00001        5470  10.991924\n",
       "2   GD + L2            0.001    0.00001        6796  14.301644\n",
       "3  SGD + L2            0.001    0.00001        5541  14.569444"
      ]
     },
     "execution_count": 20,
     "metadata": {},
     "output_type": "execute_result"
    }
   ],
   "source": [
    "df=pd.DataFrame(\n",
    "    {\n",
    "        'methods':['GD', 'SGD','GD + L2','SGD + L2'],\n",
    "        r'$\\lambda$-coeff':[None,None,0.001,0.001],\n",
    "        'tol-value': 0.00001,\n",
    "        'iterations': [len(it) for it in [score_1, score_2, score_3,score_4]],\n",
    "        'err-value': [it[-1] for it in [score_1, score_2, score_3,score_4]]\n",
    "    }\n",
    ")\n",
    "df"
   ]
  },
  {
   "cell_type": "markdown",
   "id": "8cd6be5d",
   "metadata": {},
   "source": [
    "Сравнение изменения весов "
   ]
  },
  {
   "cell_type": "code",
   "execution_count": 21,
   "id": "85b2b55d",
   "metadata": {},
   "outputs": [
    {
     "data": {
      "text/html": [
       "<div>\n",
       "<style scoped>\n",
       "    .dataframe tbody tr th:only-of-type {\n",
       "        vertical-align: middle;\n",
       "    }\n",
       "\n",
       "    .dataframe tbody tr th {\n",
       "        vertical-align: top;\n",
       "    }\n",
       "\n",
       "    .dataframe thead th {\n",
       "        text-align: right;\n",
       "    }\n",
       "</style>\n",
       "<table border=\"1\" class=\"dataframe\">\n",
       "  <thead>\n",
       "    <tr style=\"text-align: right;\">\n",
       "      <th></th>\n",
       "      <th>GD</th>\n",
       "      <th>SGD</th>\n",
       "      <th>GD + L2</th>\n",
       "      <th>SGD + L2</th>\n",
       "    </tr>\n",
       "  </thead>\n",
       "  <tbody>\n",
       "    <tr>\n",
       "      <th>weigt0</th>\n",
       "      <td>17.018749</td>\n",
       "      <td>17.038181</td>\n",
       "      <td>17.018631</td>\n",
       "      <td>17.034655</td>\n",
       "    </tr>\n",
       "    <tr>\n",
       "      <th>weigt1</th>\n",
       "      <td>54.470064</td>\n",
       "      <td>54.526004</td>\n",
       "      <td>54.466802</td>\n",
       "      <td>54.269300</td>\n",
       "    </tr>\n",
       "    <tr>\n",
       "      <th>weigt2</th>\n",
       "      <td>4.754332</td>\n",
       "      <td>4.677812</td>\n",
       "      <td>4.754524</td>\n",
       "      <td>4.614339</td>\n",
       "    </tr>\n",
       "    <tr>\n",
       "      <th>weigt3</th>\n",
       "      <td>63.309693</td>\n",
       "      <td>63.309314</td>\n",
       "      <td>63.306693</td>\n",
       "      <td>63.015600</td>\n",
       "    </tr>\n",
       "    <tr>\n",
       "      <th>weigt4</th>\n",
       "      <td>93.397915</td>\n",
       "      <td>93.323055</td>\n",
       "      <td>93.392880</td>\n",
       "      <td>92.750376</td>\n",
       "    </tr>\n",
       "    <tr>\n",
       "      <th>weigt5</th>\n",
       "      <td>71.041478</td>\n",
       "      <td>71.136627</td>\n",
       "      <td>71.038583</td>\n",
       "      <td>70.949528</td>\n",
       "    </tr>\n",
       "    <tr>\n",
       "      <th>weigt6</th>\n",
       "      <td>86.985916</td>\n",
       "      <td>86.883086</td>\n",
       "      <td>86.982717</td>\n",
       "      <td>86.452439</td>\n",
       "    </tr>\n",
       "    <tr>\n",
       "      <th>weigt7</th>\n",
       "      <td>10.236582</td>\n",
       "      <td>10.122452</td>\n",
       "      <td>10.234845</td>\n",
       "      <td>9.830936</td>\n",
       "    </tr>\n",
       "    <tr>\n",
       "      <th>weigt8</th>\n",
       "      <td>3.511161</td>\n",
       "      <td>3.542148</td>\n",
       "      <td>3.511564</td>\n",
       "      <td>3.612203</td>\n",
       "    </tr>\n",
       "    <tr>\n",
       "      <th>weigt9</th>\n",
       "      <td>70.812265</td>\n",
       "      <td>70.682697</td>\n",
       "      <td>70.808932</td>\n",
       "      <td>70.219321</td>\n",
       "    </tr>\n",
       "  </tbody>\n",
       "</table>\n",
       "</div>"
      ],
      "text/plain": [
       "               GD        SGD    GD + L2   SGD + L2\n",
       "weigt0  17.018749  17.038181  17.018631  17.034655\n",
       "weigt1  54.470064  54.526004  54.466802  54.269300\n",
       "weigt2   4.754332   4.677812   4.754524   4.614339\n",
       "weigt3  63.309693  63.309314  63.306693  63.015600\n",
       "weigt4  93.397915  93.323055  93.392880  92.750376\n",
       "weigt5  71.041478  71.136627  71.038583  70.949528\n",
       "weigt6  86.985916  86.883086  86.982717  86.452439\n",
       "weigt7  10.236582  10.122452  10.234845   9.830936\n",
       "weigt8   3.511161   3.542148   3.511564   3.612203\n",
       "weigt9  70.812265  70.682697  70.808932  70.219321"
      ]
     },
     "execution_count": 21,
     "metadata": {},
     "output_type": "execute_result"
    }
   ],
   "source": [
    "df2=pd.DataFrame({'GD':W_1, 'SGD':W_2,'GD + L2':W_3,'SGD + L2':W_4}, index=['weigt'+str(i) for i in range(10)])\n",
    "df2"
   ]
  },
  {
   "cell_type": "code",
   "execution_count": 22,
   "id": "eba73dac",
   "metadata": {},
   "outputs": [
    {
     "data": {
      "image/png": "[encoded data removed]",
      "text/plain": [
       "<Figure size 1152x720 with 1 Axes>"
      ]
     },
     "metadata": {
      "needs_background": "light"
     },
     "output_type": "display_data"
    }
   ],
   "source": [
    "plt.figure(figsize=(16, 10))\n",
    "plt.ylim((0,np.max([np.max(score_2),np.max(score_4)])))\n",
    "plt.xlim((0,np.max([len(score_1), len(score_2), len(score_3), len(score_4)])-1000))\n",
    "plt.plot([x for x in range(1, len(score_1) + 1)], score_1, label='GD-method')\n",
    "plt.plot([x for x in range(1, len(score_2) + 1)], score_2, c='r', label='SGD-method')\n",
    "plt.plot([x for x in range(1, len(score_3) + 1)], score_3, label='GD-method with L2')\n",
    "plt.plot([x for x in range(1, len(score_4) + 1)], score_4, label='SGD-method with L2')\n",
    "plt.axhline(mse_default, c='gray', ls='--', label=r'calculated indicator $MSE$', mew=0.9)\n",
    "plt.xticks(list(plt.xticks()[0])+[len(score_1), len(score_2), len(score_3), len(score_4)])\n",
    "plt.xlabel('iteratoin number')\n",
    "plt.ylabel(r'$MSE$')\n",
    "plt.legend()\n",
    "plt.show()"
   ]
  },
  {
   "cell_type": "markdown",
   "id": "8ce5eeb4",
   "metadata": {},
   "source": [
    "Значения 'склеиваются' на графике"
   ]
  }
 ],
 "metadata": {
  "kernelspec": {
   "display_name": "Python 3",
   "language": "python",
   "name": "python3"
  },
  "language_info": {
   "codemirror_mode": {
    "name": "ipython",
    "version": 3
   },
   "file_extension": ".py",
   "mimetype": "text/x-python",
   "name": "python",
   "nbconvert_exporter": "python",
   "pygments_lexer": "ipython3",
   "version": "3.8.8"
  }
 },
 "nbformat": 4,
 "nbformat_minor": 5
}
