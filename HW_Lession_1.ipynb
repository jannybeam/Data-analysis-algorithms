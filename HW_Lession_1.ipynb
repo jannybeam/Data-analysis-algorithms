{
 "cells": [
  {
   "cell_type": "markdown",
   "id": "0a88fa41",
   "metadata": {},
   "source": [
    "Задача: предсказание баллов ЕГЭ ученика в зависимости от количества лет стажа его репетитора"
   ]
  },
  {
   "cell_type": "markdown",
   "id": "b2bd927f",
   "metadata": {},
   "source": [
    "# Подготовительная часть"
   ]
  },
  {
   "cell_type": "code",
   "execution_count": 2,
   "id": "c4386c86",
   "metadata": {},
   "outputs": [],
   "source": [
    "import numpy as np\n",
    "import matplotlib.pyplot as plt"
   ]
  },
  {
   "cell_type": "code",
   "execution_count": 8,
   "id": "6bc437f7",
   "metadata": {},
   "outputs": [],
   "source": [
    "y = np.array([45, 55, 50, 59, 65, 35, 75, 80, 50, 60])\n",
    "\n",
    "X = np.array([[1, 1, 1, 1, 1, 1, 1, 1, 1, 1],\n",
    "        [1, 1, 2, 1, 3, 0, 5, 10, 1, 2]])"
   ]
  },
  {
   "cell_type": "code",
   "execution_count": 9,
   "id": "163abfa4",
   "metadata": {},
   "outputs": [],
   "source": [
    "y_pred1 = 35 * np.ones(10) + X[1]*5\n",
    "y_pred2 = 40 * np.ones(10) + X[1]*7.5"
   ]
  },
  {
   "cell_type": "code",
   "execution_count": 10,
   "id": "fc69164d",
   "metadata": {},
   "outputs": [
    {
     "data": {
      "image/png": "[encoded data removed]",
      "text/plain": [
       "<Figure size 432x288 with 1 Axes>"
      ]
     },
     "metadata": {
      "needs_background": "light"
     },
     "output_type": "display_data"
    }
   ],
   "source": [
    "plt.scatter(X[1], y)\n",
    "plt.plot(X[1], y_pred1, label='1')\n",
    "plt.plot(X[1], y_pred2, label='2')\n",
    "plt.legend()\n",
    "plt.show()"
   ]
  },
  {
   "cell_type": "markdown",
   "id": "e5a24ea7",
   "metadata": {},
   "source": [
    "Простая ошибка:"
   ]
  },
  {
   "cell_type": "code",
   "execution_count": 13,
   "id": "c38a1a50",
   "metadata": {},
   "outputs": [
    {
     "data": {
      "text/plain": [
       "(94.0, -21.0)"
      ]
     },
     "execution_count": 13,
     "metadata": {},
     "output_type": "execute_result"
    }
   ],
   "source": [
    "err1 = np.sum(y - y_pred1)\n",
    "err2 = np.sum(y - y_pred2)\n",
    "err1, err2"
   ]
  },
  {
   "cell_type": "markdown",
   "id": "4428df80",
   "metadata": {},
   "source": [
    "MAE (Mean Absolute Error):"
   ]
  },
  {
   "cell_type": "code",
   "execution_count": 14,
   "id": "cc29d806",
   "metadata": {},
   "outputs": [
    {
     "data": {
      "text/plain": [
       "(10.4, 7.9)"
      ]
     },
     "execution_count": 14,
     "metadata": {},
     "output_type": "execute_result"
    }
   ],
   "source": [
    "mae_1 = np.sum(np.abs(y - y_pred1)) / 10\n",
    "mae_2 = np.sum(np.abs(y - y_pred2)) / 10\n",
    "mae_1, mae_2"
   ]
  },
  {
   "cell_type": "markdown",
   "id": "d5024e17",
   "metadata": {},
   "source": [
    "MSE (Mean Squared Error):"
   ]
  },
  {
   "cell_type": "code",
   "execution_count": 16,
   "id": "497a8c68",
   "metadata": {},
   "outputs": [
    {
     "data": {
      "text/plain": [
       "(143.6, 151.35)"
      ]
     },
     "execution_count": 16,
     "metadata": {},
     "output_type": "execute_result"
    }
   ],
   "source": [
    "mse_1 = np.mean((y - y_pred1)**2)\n",
    "mse_2 = np.mean((y - y_pred2)**2)\n",
    "mse_1, mse_2"
   ]
  },
  {
   "cell_type": "markdown",
   "id": "8a22a9dd",
   "metadata": {},
   "source": [
    "Метод наименьших квадратов (МНК):"
   ]
  },
  {
   "cell_type": "code",
   "execution_count": 17,
   "id": "1de695c4",
   "metadata": {},
   "outputs": [
    {
     "data": {
      "text/plain": [
       "(2, 10)"
      ]
     },
     "execution_count": 17,
     "metadata": {},
     "output_type": "execute_result"
    }
   ],
   "source": [
    "X.shape"
   ]
  },
  {
   "cell_type": "code",
   "execution_count": 18,
   "id": "140f18bf",
   "metadata": {},
   "outputs": [
    {
     "data": {
      "text/plain": [
       "(10, 2)"
      ]
     },
     "execution_count": 18,
     "metadata": {},
     "output_type": "execute_result"
    }
   ],
   "source": [
    "X.T.shape"
   ]
  },
  {
   "cell_type": "code",
   "execution_count": 19,
   "id": "7688d903",
   "metadata": {},
   "outputs": [
    {
     "data": {
      "text/plain": [
       "True"
      ]
     },
     "execution_count": 19,
     "metadata": {},
     "output_type": "execute_result"
    }
   ],
   "source": [
    "all(X @ y == np.dot(X,y))"
   ]
  },
  {
   "cell_type": "code",
   "execution_count": 20,
   "id": "3dd15755",
   "metadata": {},
   "outputs": [
    {
     "data": {
      "text/plain": [
       "array([47.23214286,  3.91071429])"
      ]
     },
     "execution_count": 20,
     "metadata": {},
     "output_type": "execute_result"
    }
   ],
   "source": [
    "W = np.linalg.inv(np.dot(X, X.T)) @ X @ y\n",
    "W"
   ]
  },
  {
   "cell_type": "code",
   "execution_count": 21,
   "id": "f9cf9aef",
   "metadata": {},
   "outputs": [],
   "source": [
    "y_pred3 = W[0] * X[0] + W[1] * X[1]"
   ]
  },
  {
   "cell_type": "code",
   "execution_count": 22,
   "id": "083c57c7",
   "metadata": {},
   "outputs": [
    {
     "data": {
      "image/png": "[encoded data removed]",
      "text/plain": [
       "<Figure size 432x288 with 1 Axes>"
      ]
     },
     "metadata": {
      "needs_background": "light"
     },
     "output_type": "display_data"
    }
   ],
   "source": [
    "plt.scatter(X[1], y)\n",
    "plt.plot(X[1], y_pred1, label='1 - manual')\n",
    "plt.plot(X[1], y_pred2, label='2 - manual')\n",
    "plt.plot(X[1], y_pred3, label='3 - analytical solution')\n",
    "plt.legend()\n",
    "plt.show()"
   ]
  },
  {
   "cell_type": "code",
   "execution_count": 23,
   "id": "5f25a3e8",
   "metadata": {},
   "outputs": [],
   "source": [
    "def calc_mae(y, y_pred):\n",
    "    err = np.mean(np.abs(y - y_pred))\n",
    "    return err\n",
    "\n",
    "def calc_mse(y, y_pred):\n",
    "    err = np.mean((y - y_pred)**2) # <=> 1/n * np.sum((y_pred - y)**2)\n",
    "    return err"
   ]
  },
  {
   "cell_type": "code",
   "execution_count": 24,
   "id": "40c9d540",
   "metadata": {},
   "outputs": [
    {
     "data": {
      "text/plain": [
       "(10.4, 143.6)"
      ]
     },
     "execution_count": 24,
     "metadata": {},
     "output_type": "execute_result"
    }
   ],
   "source": [
    "calc_mae(y, y_pred1), calc_mse(y, y_pred1)"
   ]
  },
  {
   "cell_type": "code",
   "execution_count": 25,
   "id": "7bffeeb2",
   "metadata": {},
   "outputs": [
    {
     "data": {
      "text/plain": [
       "(7.9, 151.35)"
      ]
     },
     "execution_count": 25,
     "metadata": {},
     "output_type": "execute_result"
    }
   ],
   "source": [
    "calc_mae(y, y_pred2), calc_mse(y, y_pred2)"
   ]
  },
  {
   "cell_type": "code",
   "execution_count": 26,
   "id": "195a6bbe",
   "metadata": {},
   "outputs": [
    {
     "data": {
      "text/plain": [
       "(6.182142857142857, 45.937499999999986)"
      ]
     },
     "execution_count": 26,
     "metadata": {},
     "output_type": "execute_result"
    }
   ],
   "source": [
    "calc_mae(y, y_pred3), calc_mse(y, y_pred3)"
   ]
  },
  {
   "cell_type": "markdown",
   "id": "f5cb5b52",
   "metadata": {},
   "source": [
    "Градиентный спуск"
   ]
  },
  {
   "cell_type": "code",
   "execution_count": 27,
   "id": "f860965e",
   "metadata": {},
   "outputs": [],
   "source": [
    "n = 10\n",
    "Q = 1/n * np.sum((y_pred3 - y)**2) # функционал ошибки, y = X*w"
   ]
  },
  {
   "cell_type": "code",
   "execution_count": 28,
   "id": "58ab97e3",
   "metadata": {},
   "outputs": [],
   "source": [
    "alpha = 1e-2 # величина шага\n",
    "g = alpha * (1/n * 2 * np.sum(X[0] * (W[0] * X[0] - y)))"
   ]
  },
  {
   "cell_type": "code",
   "execution_count": 29,
   "id": "05dbfb9c",
   "metadata": {},
   "outputs": [
    {
     "data": {
      "text/plain": [
       "(47.23214285714285, 47.43549999999999)"
      ]
     },
     "execution_count": 29,
     "metadata": {},
     "output_type": "execute_result"
    }
   ],
   "source": [
    "W[0], W[0] - g"
   ]
  },
  {
   "cell_type": "markdown",
   "id": "36a9f744",
   "metadata": {},
   "source": [
    "# Практическое задание"
   ]
  },
  {
   "cell_type": "markdown",
   "id": "7bb057eb",
   "metadata": {},
   "source": [
    "1. Подберите скорость обучения (alpha) и количество итераций."
   ]
  },
  {
   "cell_type": "code",
   "execution_count": 30,
   "id": "2d221f15",
   "metadata": {},
   "outputs": [
    {
     "name": "stdout",
     "output_type": "stream",
     "text": [
      "Number of objects = 10        \n",
      "Learning rate = 0.01        \n",
      "Initial weights = [1.  0.5] \n",
      "\n",
      "Iteration #0: W_new = [2.102 3.9  ], MSE = 3173.15\n",
      "Iteration #10: W_new = [ 7.48556387 10.91164634], MSE = 912.09\n",
      "Iteration #20: W_new = [10.82400397 10.61449967], MSE = 770.86\n",
      "Iteration #30: W_new = [13.57320088 10.124621  ], MSE = 664.64\n",
      "Iteration #40: W_new = [15.88885938  9.69834451], MSE = 581.68\n",
      "Iteration #50: W_new = [17.8546806   9.33546896], MSE = 515.97\n",
      "Iteration #60: W_new = [19.53409617  9.02536763], MSE = 463.27\n",
      "Iteration #70: W_new = [20.97700086  8.75892657], MSE = 420.52\n",
      "Iteration #80: W_new = [22.22310405  8.5288245 ], MSE = 385.48\n",
      "Iteration #90: W_new = [23.30429492  8.32917442], MSE = 356.48\n"
     ]
    }
   ],
   "source": [
    "n = X.shape[1]\n",
    "alpha = 1e-2\n",
    "W = np.array([1, 0.5])\n",
    "print(f'Number of objects = {n} \\\n",
    "       \\nLearning rate = {alpha} \\\n",
    "       \\nInitial weights = {W} \\n')\n",
    "\n",
    "for i in range(100):\n",
    "    y_pred = np.dot(W, X)\n",
    "    err = calc_mse(y, y_pred)\n",
    "    for k in range(W.shape[0]):\n",
    "        W[k] -= alpha * (1/n * 2 * np.sum(X[k] * (y_pred - y)))\n",
    "    if i % 10 == 0:\n",
    "        alpha /= 1.1\n",
    "        print(f'Iteration #{i}: W_new = {W}, MSE = {round(err,2)}')"
   ]
  },
  {
   "cell_type": "code",
   "execution_count": 38,
   "id": "0d722afb",
   "metadata": {},
   "outputs": [
    {
     "data": {
      "text/plain": [
       "array([47.23214286,  3.91071429])"
      ]
     },
     "execution_count": 38,
     "metadata": {},
     "output_type": "execute_result"
    }
   ],
   "source": [
    "W_0 = np.linalg.inv(X @ X.T) @ X @ y\n",
    "W_0"
   ]
  },
  {
   "cell_type": "code",
   "execution_count": 39,
   "id": "e85d561d",
   "metadata": {},
   "outputs": [],
   "source": [
    "def grad_desc(X, y, alpha=1e-04, verbose=False, tol=0.0):\n",
    "    \n",
    "    n = X.shape[1]\n",
    "    W = np.array([1, 0.5])\n",
    "    min_err = float('inf')\n",
    "    n_iter = 0\n",
    "    stop_chek = True\n",
    "    while stop_chek:\n",
    "        n_iter += 1\n",
    "        y_pred = W @ X\n",
    "        err = calc_mse(y, y_pred)\n",
    "        if min_err - err > tol:\n",
    "            min_err = err\n",
    "        else:\n",
    "            print(\n",
    "                f'Stop descent! iteration: {n_iter}, weights: {W}, mse: {min_err}')\n",
    "            stop_chek = False\n",
    "        for ii in range(W.shape[0]):\n",
    "            W[ii] -= alpha * (1 / n * 2 * np.sum(X[ii] * (y_pred - y)))\n",
    "        if verbose:\n",
    "            if n_iter % 100 == 0:\n",
    "                print(n_iter, W, err)\n",
    "    return W, min_err"
   ]
  },
  {
   "cell_type": "code",
   "execution_count": 40,
   "id": "54fa2669",
   "metadata": {},
   "outputs": [
    {
     "name": "stdout",
     "output_type": "stream",
     "text": [
      "100 [47.16186867  3.92369094] 45.940520074317476\n",
      "200 [47.23203087  3.91073496] 45.93750000766935\n",
      "Stop descent! iteration: 287, weights: [47.23214242  3.91071437], mse: 45.9375000000001\n"
     ]
    },
    {
     "data": {
      "text/plain": [
       "(array([47.23214244,  3.91071436]), 45.9375000000001)"
      ]
     },
     "execution_count": 40,
     "metadata": {},
     "output_type": "execute_result"
    }
   ],
   "source": [
    "W_1, mse_1 = grad_desc(X, y, alpha=0.06, verbose=True)\n",
    "W_1, mse_1"
   ]
  },
  {
   "cell_type": "code",
   "execution_count": 41,
   "id": "b3a6aa0a",
   "metadata": {},
   "outputs": [
    {
     "data": {
      "image/png": "[encoded data removed]",
      "text/plain": [
       "<Figure size 1152x576 with 1 Axes>"
      ]
     },
     "metadata": {
      "needs_background": "light"
     },
     "output_type": "display_data"
    }
   ],
   "source": [
    "plt.figure(figsize=(16, 8))\n",
    "plt.scatter(X[1], y)\n",
    "plt.plot(X[1], y_pred1, label='model1')\n",
    "plt.plot(X[1], 40 * np.ones(10) + X[1] * 7.5, label='model2')\n",
    "plt.plot(X[1], W_0[0] + W_0[1] * X[1], label='analytic_model')\n",
    "plt.plot(X[1], W_1[0] + W_1[1] * X[1], label='gd_model')\n",
    "plt.legend(loc='best')\n",
    "plt.show()"
   ]
  },
  {
   "cell_type": "markdown",
   "id": "9e245161",
   "metadata": {},
   "source": [
    "Вывод: максимальное приближение к минимуму за 287 итераций. Линии регрессии полученные аналитическим методом, и методом градиентного спуска перекрывают друг друга."
   ]
  },
  {
   "cell_type": "markdown",
   "id": "4705b213",
   "metadata": {},
   "source": [
    "2*. В этом коде мы избавляемся от итераций по весам, но тут есть ошибка, исправьте ее:"
   ]
  },
  {
   "cell_type": "code",
   "execution_count": 42,
   "id": "7f402cc1",
   "metadata": {},
   "outputs": [
    {
     "name": "stdout",
     "output_type": "stream",
     "text": [
      "Number of objects = 10        \n",
      "Learning rate = 0.01        \n",
      "Initial weights = [1.  0.5] \n",
      "\n",
      "Iteration #0: W_new = [5.502 5.002], MSE = 3173.15\n",
      "Iteration #10: W_new = [11.79295096 11.29295096], MSE = 737.14\n",
      "Iteration #20: W_new = [11.8219808 11.3219808], MSE = 737.09\n",
      "Iteration #30: W_new = [11.82211476 11.32211476], MSE = 737.09\n",
      "Iteration #40: W_new = [11.82211538 11.32211538], MSE = 737.09\n",
      "Iteration #50: W_new = [11.82211538 11.32211538], MSE = 737.09\n",
      "Iteration #60: W_new = [11.82211538 11.32211538], MSE = 737.09\n",
      "Iteration #70: W_new = [11.82211538 11.32211538], MSE = 737.09\n",
      "Iteration #80: W_new = [11.82211538 11.32211538], MSE = 737.09\n",
      "Iteration #90: W_new = [11.82211538 11.32211538], MSE = 737.09\n"
     ]
    }
   ],
   "source": [
    "n = X.shape[1]\n",
    "alpha = 1e-2\n",
    "W = np.array([1, 0.5])\n",
    "print(f'Number of objects = {n} \\\n",
    "       \\nLearning rate = {alpha} \\\n",
    "       \\nInitial weights = {W} \\n')\n",
    "\n",
    "for i in range(100):\n",
    "    y_pred = np.dot(W, X)\n",
    "    err = calc_mse(y, y_pred)\n",
    "#     for k in range(W.shape[0]):\n",
    "#         W[k] -= alpha * (1/n * 2 * np.sum(X[k] * (y_pred - y)))\n",
    "    W -= alpha * (1/n * 2 * np.sum(X * (y_pred - y)))\n",
    "    W_pred = W\n",
    "    if i % 10 == 0:\n",
    "        print(f'Iteration #{i}: W_new = {W}, MSE = {round(err,2)}')"
   ]
  },
  {
   "cell_type": "code",
   "execution_count": 43,
   "id": "56270795",
   "metadata": {},
   "outputs": [
    {
     "name": "stdout",
     "output_type": "stream",
     "text": [
      "0 [ 7.612 20.9  ] 3173.15\n",
      "10 [25.72983979  9.05170097] 364.6834436471203\n",
      "20 [35.85695572  6.15284752] 125.86627725452965\n",
      "30 [41.24888118  5.03270471] 67.8592661647404\n",
      "40 [44.0891315   4.49316871] 51.980145468359524\n",
      "50 [45.5816168   4.21574742] 47.60357573538611\n",
      "60 [46.3654434   4.07078732] 46.39687623882493\n",
      "70 [46.77704197  3.99475582] 46.06416092142592\n",
      "80 [46.99317184  3.95484256] 45.972423420722386\n",
      "90 [47.10666058  3.9338856 ] 45.9471292155766\n",
      "100 [47.16625286  3.92288138] 45.94015500316733\n",
      "110 [47.19754441  3.91710315] 45.93823204735757\n",
      "120 [47.21397542  3.91406904] 45.93770184282277\n",
      "130 [47.22260325  3.91247585] 45.93755565285454\n",
      "140 [47.22713366  3.91163927] 45.93751534481224\n",
      "150 [47.22951256  3.91119999] 45.93750423092875\n",
      "160 [47.2307617   3.91096933] 45.93750116656743\n",
      "170 [47.23141762  3.91084821] 45.93750032165032\n",
      "180 [47.23176204  3.91078461] 45.937500088686626\n",
      "190 [47.23194289  3.91075121] 45.937500024453016\n",
      "200 [47.23203786  3.91073367] 45.937500006742255\n",
      "210 [47.23208772  3.91072447] 45.93750000185901\n",
      "220 [47.23211391  3.91071963] 45.93750000051257\n",
      "230 [47.23212766  3.91071709] 45.9375000001413\n",
      "240 [47.23213487  3.91071576] 45.93750000003897\n",
      "250 [47.23213867  3.91071506] 45.93750000001074\n",
      "260 [47.23214066  3.91071469] 45.937500000002956\n",
      "270 [47.2321417  3.9107145] 45.93750000000081\n",
      "280 [47.23214225  3.9107144 ] 45.93750000000022\n"
     ]
    }
   ],
   "source": [
    "n = X.shape[1]\n",
    "alpha = 0.06\n",
    "\n",
    "W = np.array([1, 0.5])\n",
    "\n",
    "for i in range(287):\n",
    "    y_pred = np.dot(W, X)\n",
    "    err = calc_mse(y, y_pred)\n",
    "    # for ii in range(W.shape[0]):\n",
    "    # W[ii] -= alpha * (1/n * 2 * np.sum(X[ii] * (y_pred - y)))'''\n",
    "    W -= (alpha * (1 / n * 2 * np.sum(X * (y_pred - y), axis=1))) # установим параметр axis=1 в функции np.sum()\n",
    "    if i % 10 == 0:\n",
    "        print(i, W, err)"
   ]
  },
  {
   "cell_type": "markdown",
   "id": "c85e8eb3",
   "metadata": {},
   "source": [
    "В результате функция градиентного спуска примет окончательный вид:"
   ]
  },
  {
   "cell_type": "code",
   "execution_count": 46,
   "id": "9845de80",
   "metadata": {},
   "outputs": [],
   "source": [
    "def my_grad_desc(X, y, alpha=1e-04, verbose=False, tol=0.0):\n",
    "    \n",
    "    n = X.shape[1]\n",
    "    W = np.array([1, 0.5])\n",
    "    min_err = float('inf')\n",
    "    n_iter = 0\n",
    "    stop_chek = True\n",
    "    while stop_chek:\n",
    "        n_iter += 1\n",
    "        y_pred = W @ X\n",
    "        err = calc_mse(y, y_pred)\n",
    "        if min_err - err > tol:\n",
    "            min_err = err\n",
    "        else:\n",
    "            print(\n",
    "                f'Stop descent! iteration: {n_iter}, weights: {W}, mse: {min_err}')\n",
    "            stop_chek = False\n",
    "        W -= alpha * (1 / n * 2 * np.sum(X * (y_pred - y), axis=1))\n",
    "        if verbose:\n",
    "            if n_iter % 100 == 0:\n",
    "                print(n_iter, W, err)\n",
    "    return W, min_err"
   ]
  },
  {
   "cell_type": "code",
   "execution_count": 47,
   "id": "f0964ef0",
   "metadata": {},
   "outputs": [
    {
     "name": "stdout",
     "output_type": "stream",
     "text": [
      "100 [47.16186867  3.92369094] 45.940520074317476\n",
      "200 [47.23203087  3.91073496] 45.93750000766935\n",
      "Stop descent! iteration: 287, weights: [47.23214242  3.91071437], mse: 45.9375000000001\n"
     ]
    },
    {
     "data": {
      "text/plain": [
       "(array([47.23214244,  3.91071436]), 45.9375000000001)"
      ]
     },
     "execution_count": 47,
     "metadata": {},
     "output_type": "execute_result"
    }
   ],
   "source": [
    "W_1, mse_1 = my_grad_desc(X, y, alpha=0.06, verbose=True)\n",
    "W_1, mse_1"
   ]
  }
 ],
 "metadata": {
  "kernelspec": {
   "display_name": "Python 3",
   "language": "python",
   "name": "python3"
  },
  "language_info": {
   "codemirror_mode": {
    "name": "ipython",
    "version": 3
   },
   "file_extension": ".py",
   "mimetype": "text/x-python",
   "name": "python",
   "nbconvert_exporter": "python",
   "pygments_lexer": "ipython3",
   "version": "3.8.8"
  }
 },
 "nbformat": 4,
 "nbformat_minor": 5
}
